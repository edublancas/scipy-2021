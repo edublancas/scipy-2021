{
 "cells": [
  {
   "cell_type": "markdown",
   "id": "40eb1a57",
   "metadata": {},
   "source": [
    "# Breaking down the Jupyter notebook monolith: Building reliable notebook-based pipelines with Ploomber\n",
    "\n",
    "Scipy 2021.\n",
    "\n",
    "Author: [Eduardo Blancas](https://twitter.com/edublancas)"
   ]
  },
  {
   "cell_type": "markdown",
   "id": "e51f86ac",
   "metadata": {},
   "source": [
    "## Introduction\n",
    "\n",
    "Notebooks are an excellent environment for data exploration: they allow us to write code interactively and get visual feedback, providing an unbeatable experience for understanding our data.\n",
    "\n",
    "However, this convenience comes at a cost: if we are not careful about adding and removing code cells, we may end up with an irreproducible notebook. Arbitrary execution order is a prevalent problem: A [recent analysis](https://blog.jetbrains.com/datalore/2020/12/17/we-downloaded-10-000-000-jupyter-notebooks-from-github-this-is-what-we-learned/) found that about 36% of notebooks on GitHub did not execute in linear order. To ensure our notebooks run, we must continuously test them to catch these problems.\n",
    "\n",
    "A second notable problem is the size of notebooks: the more cells we have, the more difficult it is to debug since there are more variables and code involved.\n",
    "\n",
    "Software engineers typically break down projects into multiple steps and test continuously to prevent broken and unmaintainable code. However, applying these ideas for data analysis requires extra work: multiple notebooks imply we have to ensure the output from one stage becomes the input for the next one. Furthermore, we can no longer press \"Run all cells\" in Jupyter to test our analysis from start to finish.\n",
    "\n",
    "Ploomber provides all the necessary tools to build multi-stage, reproducible pipelines in Jupyter that feel like a single notebook. Users can easily break down their analysis into multiple notebooks and execute them all with a single command."
   ]
  },
  {
   "cell_type": "markdown",
   "id": "99433f12",
   "metadata": {},
   "source": [
    "## Creating a pipeline in Ploomber\n",
    "\n",
    "To develop a pipeline, users create a `pipeline.yaml` file and declare the tasks and their outputs as follows:\n",
    "\n",
    "```yaml\n",
    "tasks:\n",
    "  - source: script.py\n",
    "    product:\n",
    "      nb: output/executed.ipynb\n",
    "      data: output/data.csv\n",
    "  \n",
    "  # more tasks here...\n",
    "```\n",
    "\n",
    "The previous pipeline has a single task (`script.py`) and generates two outputs: `output/executed.ipynb` and `output/data.csv`. You may be wondering why we have a notebook as an output. Ploomber converts scripts to notebooks before execution; hence, our script is considered the source and the notebook a byproduct of the execution. The use of scripts as sources (instead of notebooks) has the advantage of being easier to version on git. However, this does not mean you have to give up interactive development since Ploomber integrates with Jupyter allowing you to edit scripts as notebooks.\n",
    "\n",
    "Let's now build a simple four-step pipeline:\n",
    "\n",
    "```yaml\n",
    "meta:\n",
    "  jupyter_hot_reload: True\n",
    "\n",
    "tasks:\n",
    "  - source: scripts/get.py\n",
    "    product:\n",
    "      nb: output/get.ipynb\n",
    "      data: output/get.csv\n",
    "\n",
    "  - source: scripts/feature-sepal.py\n",
    "    product:\n",
    "      nb: output/feature-sepal.ipynb\n",
    "      data: output/feature-sepal.csv\n",
    "\n",
    "  - source: scripts/feature-petal.py\n",
    "    product:\n",
    "      nb: output/feature-petal.ipynb\n",
    "      data: output/feature-petal.csv\n",
    "\n",
    "  - source: scripts/fit.py\n",
    "    product:\n",
    "      nb: output/fit.ipynb\n",
    "      model: output/model.pickle\n",
    "```\n",
    "\n",
    "The pipeline above has four tasks: one that obtains raw data (the iris dataset), two that process such data, and a final task that trains a model. Copy the contents of the snippet above into `playground/pipeline.yaml`.\n",
    "\n",
    "Our source code is still missing; let's ask Ploomber to generate some base files for us:"
   ]
  },
  {
   "cell_type": "code",
   "execution_count": 2,
   "id": "4c37a304",
   "metadata": {},
   "outputs": [
    {
     "name": "stdout",
     "output_type": "stream",
     "text": [
      "Found spec at /Users/Edu/dev/scipy-2021/playground\n",
      "Adding /Users/Edu/dev/scipy-2021/playground/scripts/get.py...\n",
      "Adding /Users/Edu/dev/scipy-2021/playground/scripts/feature-sepal.py...\n",
      "Adding /Users/Edu/dev/scipy-2021/playground/scripts/feature-petal.py...\n",
      "Adding /Users/Edu/dev/scipy-2021/playground/scripts/fit.py...\n"
     ]
    }
   ],
   "source": [
    "%%sh\n",
    "cd playground\n",
    "ploomber scaffold"
   ]
  },
  {
   "cell_type": "markdown",
   "id": "1125a3d3",
   "metadata": {},
   "source": [
    "Let's now ensure that our pipeline is appropriately recognized:"
   ]
  },
  {
   "cell_type": "code",
   "execution_count": 3,
   "id": "a52de4a5",
   "metadata": {},
   "outputs": [
    {
     "name": "stdout",
     "output_type": "stream",
     "text": [
      "name      Last run     Outdated?    Product      Doc          Location\n",
      "                                                 (short)\n",
      "--------  -----------  -----------  -----------  -----------  -----------\n",
      "fit       23 hours     Source code  MetaProduct  Add          /Users/Edu/\n",
      "          ago (Jun                  ({'model':   description  dev/scipy-2\n",
      "          21, 21 at                 File('outpu  here         021/playgro\n",
      "          22:56)                    t/model.pic               und/scripts\n",
      "                                    kle'),                    /fit.py\n",
      "                                    'nb': File(\n",
      "                                    'output/fit\n",
      "                                    .ipynb')})\n",
      "feature-  a day ago    Source code  MetaProduct  Add          /Users/Edu/\n",
      "petal     (Jun 21, 21               ({'data': F  description  dev/scipy-2\n",
      "          at 22:43)                 ile('output  here         021/playgro\n",
      "                                    /...re-peta               und/scripts\n",
      "                                    l.csv'),                  /feature-\n",
      "                                    'nb': File(               petal.py\n",
      "                                    'output/...\n",
      "                                    -petal.ipyn\n",
      "                                    b')})\n",
      "feature-  a day ago    Source code  MetaProduct  Add          /Users/Edu/\n",
      "sepal     (Jun 21, 21               ({'data': F  description  dev/scipy-2\n",
      "          at 22:43)                 ile('output  here         021/playgro\n",
      "                                    /...re-sepa               und/scripts\n",
      "                                    l.csv'),                  /feature-\n",
      "                                    'nb': File(               sepal.py\n",
      "                                    'output/...\n",
      "                                    -sepal.ipyn\n",
      "                                    b')})\n",
      "get       a day ago    Source code  MetaProduct  Add          /Users/Edu/\n",
      "          (Jun 21, 21               ({'data': F  description  dev/scipy-2\n",
      "          at 22:43)                 ile('output  here         021/playgro\n",
      "                                    /get.csv'),               und/scripts\n",
      "                                    'nb': File(               /get.py\n",
      "                                    'output/get\n",
      "                                    .ipynb')})\n"
     ]
    },
    {
     "name": "stderr",
     "output_type": "stream",
     "text": [
      "100%|██████████| 4/4 [00:00<00:00, 5135.36it/s]\n"
     ]
    }
   ],
   "source": [
    "%%sh\n",
    "cd playground\n",
    "ploomber status"
   ]
  },
  {
   "cell_type": "markdown",
   "id": "8faf4431",
   "metadata": {},
   "source": [
    "We can see that Ploomber recognizes our pipeline and prints its status. Let's visualize it:"
   ]
  },
  {
   "cell_type": "code",
   "execution_count": 4,
   "id": "ffd25c9c",
   "metadata": {},
   "outputs": [
    {
     "name": "stdout",
     "output_type": "stream",
     "text": [
      "Plot saved at: pipeline.png\n"
     ]
    },
    {
     "name": "stderr",
     "output_type": "stream",
     "text": [
      "100%|██████████| 4/4 [00:00<00:00, 2540.85it/s]\n"
     ]
    }
   ],
   "source": [
    "%%sh\n",
    "cd playground\n",
    "ploomber plot"
   ]
  },
  {
   "cell_type": "code",
   "execution_count": 5,
   "id": "70a39678",
   "metadata": {},
   "outputs": [
    {
     "data": {
      "image/png": "[encoded data removed]",
      "text/plain": [
       "<IPython.core.display.Image object>"
      ]
     },
     "execution_count": 5,
     "metadata": {},
     "output_type": "execute_result"
    }
   ],
   "source": [
    "from IPython.display import Image\n",
    "Image('playground/pipeline.png')"
   ]
  },
  {
   "cell_type": "markdown",
   "id": "0dc93376",
   "metadata": {},
   "source": [
    "Our pipeline doesn't have any structure yet, but we can easily add it. We want to get data first, then process the data, then fit a model. Let's edit those files. Open `playground/scripts/features-petal.py` as a notebook by right-clicking on it and then `Open With` -> `Notebook`:\n",
    "\n",
    "![lab-open-with-notebook](images/lab-open-with-notebook.png)\n",
    "\n",
    "At the top of the notebook, you'll see the following:\n",
    "\n",
    "```python\n",
    "upstream = None\n",
    "```\n",
    "\n",
    "This special variable indicates which tasks should execute before the notebook we're currently working on. In this case, we want to get the raw data so we can process it here, so we do:\n",
    "\n",
    "```python\n",
    "upstream = ['get']\n",
    "```\n",
    "\n",
    "After editing, click on `File` -> `Reload Python File from Disk`:\n",
    "\n",
    "![reload-file](images/reload-file.png)\n",
    "\n",
    "You'll see that the script updates. Since you said you want to execute `get` first, Ploomber adds a new cell that contains the output location of `get`. Ploomber makes it simple to assemble a data pipeline from multiple notebooks!\n",
    "\n",
    "Let's continue declaring the remaining dependencies for the other tasks:\n",
    "\n",
    "1. Edit `playground/scripts/features-sepal.py` and change `upstream = None` to `upstream = ['get']`\n",
    "2. Edit `playground/scripts/fit.py` and change `upstream = None` to `upstream = ['get', 'feature-sepal', 'feature-petal']`\n",
    "\n",
    "Let's now re-create the pipeline plot:"
   ]
  },
  {
   "cell_type": "code",
   "execution_count": null,
   "id": "4f48af16",
   "metadata": {},
   "outputs": [],
   "source": [
    "%%sh\n",
    "cd playground\n",
    "ploomber plot"
   ]
  },
  {
   "cell_type": "code",
   "execution_count": null,
   "id": "44b6dcf2",
   "metadata": {},
   "outputs": [],
   "source": [
    "from IPython.display import Image\n",
    "Image('playground/pipeline.png')"
   ]
  },
  {
   "cell_type": "markdown",
   "id": "7a71641b",
   "metadata": {},
   "source": [
    "\n",
    "Ploomber recognizes the references and draws the dependency relationship among tasks.\n",
    "\n",
    "Our pipeline doesn't do anything yet. Let's add some code. Edit the files and add the following:\n",
    "\n",
    "**Important:** make sure you add the code in a new cell **at the end** of the notebook.\n",
    "\n",
    "### `playground/scripts/get.py`\n",
    "\n",
    "```python\n",
    "# get raw data\n",
    "import pandas as pd\n",
    "from sklearn.datasets import load_iris\n",
    "\n",
    "raw = load_iris(as_frame=True)\n",
    "df = raw['data']\n",
    "df.head()\n",
    "df['target'] = raw['target']\n",
    "df.to_csv(product['data'], index=False)\n",
    "```\n",
    "\n",
    "### `playground/scripts/feature-sepal.py`\n",
    "\n",
    "```python\n",
    "# generate one feature\n",
    "import pandas as pd\n",
    "\n",
    "df = pd.read_csv(upstream['get']['data'])\n",
    "df['sepal-area'] = df['sepal length (cm)'] * df['sepal width (cm)']\n",
    "df[['sepal-area']].to_csv(product['data'], index=False)\n",
    "```\n",
    "\n",
    "### `playground/scripts/feature-petal.py`\n",
    "\n",
    "```python\n",
    "# generate another feature\n",
    "import pandas as pd\n",
    "\n",
    "df = pd.read_csv(upstream['get']['data'])\n",
    "df['petal-area'] = df['petal length (cm)'] * df['petal width (cm)']\n",
    "df[['petal-area']].to_csv(product['data'], index=False)\n",
    "```\n",
    "\n",
    "### `playground/scripts/fit.py`\n",
    "\n",
    "```python\n",
    "# train a model and save it\n",
    "from pathlib import Path\n",
    "import pickle\n",
    "\n",
    "import pandas as pd\n",
    "from sklearn.model_selection import train_test_split\n",
    "from sklearn.tree import DecisionTreeClassifier\n",
    "from sklearn_evaluation import plot\n",
    "\n",
    "get = pd.read_csv(upstream['get']['data'])\n",
    "petal = pd.read_csv(upstream['feature-sepal']['data'])\n",
    "sepal = pd.read_csv(upstream['feature-petal']['data'])\n",
    "df = get.join(petal).join(sepal)\n",
    "\n",
    "X = df.drop('target', axis='columns')\n",
    "y = df['target']\n",
    "\n",
    "X_train, X_test, y_train, y_test = train_test_split(X, y, test_size=0.33, random_state=42)\n",
    "\n",
    "model = DecisionTreeClassifier()\n",
    "model.fit(X_train, y_train)\n",
    "Path(product['model']).write_bytes(pickle.dumps(model))\n",
    "\n",
    "y_pred = model.predict(X_test)\n",
    "\n",
    "plot.confusion_matrix(y_test, y_pred)\n",
    "```\n",
    "\n",
    "We can now run our pipeline:"
   ]
  },
  {
   "cell_type": "code",
   "execution_count": null,
   "id": "c5b4f1c1",
   "metadata": {},
   "outputs": [],
   "source": [
    "%%sh\n",
    "cd playground\n",
    "ploomber build"
   ]
  },
  {
   "cell_type": "markdown",
   "id": "0bd18d70",
   "metadata": {},
   "source": [
    "Navigate to `playground/output/` and you'll see all the outputs: the executed notebooks, data files and trained model."
   ]
  },
  {
   "cell_type": "markdown",
   "id": "4e5d8341",
   "metadata": {},
   "source": [
    "## Incremental builds\n",
    "\n",
    "Data workflows require a lot of iteration. For example, you may want to generate a new feature or model. It's wasteful to re-execute every task with every minor change. One of Ploomber's core features is incremental builds, which automatically skip tasks whose source code hasn't changed.\n",
    "\n",
    "Let's go ahead and modify `playground/scripts/fit.py`, by adding a summary table as a new cell at the end:\n",
    "\n",
    "```python\n",
    "# add this at the bottom of playground/scripts/fit.py\n",
    "from sklearn.metrics import classification_report\n",
    "classification_report(y_test, y_pred)\n",
    "```\n",
    "\n",
    "Run the pipeline again:"
   ]
  },
  {
   "cell_type": "code",
   "execution_count": null,
   "id": "b192dea8",
   "metadata": {},
   "outputs": [],
   "source": [
    "%%sh\n",
    "cd playground\n",
    "ploomber build"
   ]
  },
  {
   "cell_type": "markdown",
   "id": "2258c002",
   "metadata": {},
   "source": [
    "You can see from the summary table that only the `fit` task executes! Incremental builds allow us to iterate faster without having to keep track of task changes."
   ]
  },
  {
   "cell_type": "markdown",
   "id": "a1ea9078",
   "metadata": {},
   "source": [
    "## Execution in the cloud\n",
    "\n",
    "When working with datasets that fit in memory, running your pipeline is simple enough, but sometimes you may need more computing power for your analysis. Ploomber makes it simple to execute your code in a distributed environment without code changes.\n",
    "\n",
    "Check out [Soopervisor](soopervisor.readthedocs.io), the package that implements exporting Ploomber projects in the cloud with support for:\n",
    "\n",
    "* [Kubernetes (Argo Workflows)](https://soopervisor.readthedocs.io/en/latest/tutorials/kubernetes.html)\n",
    "* [AWS Batch](https://soopervisor.readthedocs.io/en/latest/tutorials/aws-batch.html)\n",
    "* [Airflow](https://soopervisor.readthedocs.io/en/latest/tutorials/airflow.html)"
   ]
  },
  {
   "cell_type": "markdown",
   "id": "cd2797cd",
   "metadata": {},
   "source": [
    "# Resources\n",
    "\n",
    "Thanks for taking the time to go through this tutorial! We hope you consider using Ploomber for your next project. If you have any questions or need help, please reach out to us! (contact info below).\n",
    "\n",
    "Here are a few resources to dig deeper:\n",
    "\n",
    "* [GitHub](https://github.com/ploomber/ploomber)\n",
    "* [Documentation](https://ploomber.readthedocs.io/)\n",
    "* [Code examples](https://github.com/ploomber/projects)\n",
    "* [JupyterCon 2020 talk](https://www.youtube.com/watch?v=M6mtgPfsA3M)\n",
    "* [Argo Community Meeting talk](https://youtu.be/FnpXyg-5W_c)\n",
    "* [Pangeo Showcase talk (AWS Batch demo)](https://youtu.be/XCgX1AszVF4)\n",
    "\n",
    "# Contact\n",
    "\n",
    "* E-mail: [contact@ploomber.io](mailto:contact@ploomber.io)\n",
    "* [Twitter](https://twitter.com/ploomber)\n",
    "* [Google form](https://forms.gle/Xf9h1Q2TGoSk15NEA)\n",
    "* [Join us on Slack](https://join.slack.com/t/ploomber-io/shared_invite/zt-rzu2e9f6-kaWgCfsLY~xeJ9vG9EIuBw)"
   ]
  }
 ],
 "metadata": {
  "kernelspec": {
   "display_name": "Python 3",
   "language": "python",
   "name": "python3"
  },
  "language_info": {
   "codemirror_mode": {
    "name": "ipython",
    "version": 3
   },
   "file_extension": ".py",
   "mimetype": "text/x-python",
   "name": "python",
   "nbconvert_exporter": "python",
   "pygments_lexer": "ipython3",
   "version": "3.8.10"
  }
 },
 "nbformat": 4,
 "nbformat_minor": 5
}
